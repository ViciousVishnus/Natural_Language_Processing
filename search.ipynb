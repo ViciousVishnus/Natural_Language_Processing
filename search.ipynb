{
 "cells": [
  {
   "cell_type": "code",
   "execution_count": 108,
   "metadata": {},
   "outputs": [],
   "source": [
    "from collections import defaultdict\n",
    "import numpy as np\n",
    "import time\n",
    "import gensim\n",
    "from gensim.models.keyedvectors import KeyedVectors\n",
    "from sklearn.decomposition import TruncatedSVD\n",
    "import mygrad as mg"
   ]
  },
  {
   "cell_type": "code",
   "execution_count": 184,
   "metadata": {},
   "outputs": [],
   "source": [
    "import pickle\n",
    "idfs = {}\n",
    "with open(\"IDF.pkl\",mode=\"rb\") as words:\n",
    "    idfs = pickle.load(words)\n",
    "glove = {}\n",
    "with open(\"embeddings.pkl\", mode=\"rb\") as embeddings:\n",
    "    glove = pickle.load(embeddings)\n",
    "imgs = {}\n",
    "with open(\"imgs.pkl\", mode=\"rb\") as opened_file:\n",
    "    imgs = pickle.load(opened_file)\n",
    "embedded_pics = {}\n",
    "for i in np.arange(100):\n",
    "    embedded_pics[i] = np.random.rand(50)"
   ]
  },
  {
   "cell_type": "code",
   "execution_count": 185,
   "metadata": {},
   "outputs": [],
   "source": [
    "from sklearn.metrics.pairwise import cosine_similarity\n",
    "# compute cosine-similarity between all pairs of rows of `x`"
   ]
  },
  {
   "cell_type": "code",
   "execution_count": 186,
   "metadata": {
    "collapsed": true
   },
   "outputs": [],
   "source": [
    "def cos_sim(x,y):\n",
    "    \"\"\"\n",
    "    Returns the cosine similarity (a value between -1,1) between the two vectors. \n",
    "    1 is highest similarity, -1 is lowest\n",
    "    \"\"\"\n",
    "    return (mg.matmul(x,y))/((mg.sqrt(mg.sum(x**2)))*(mg.sqrt(mg.sum(y**2))))"
   ]
  },
  {
   "cell_type": "code",
   "execution_count": 187,
   "metadata": {},
   "outputs": [],
   "source": [
    "def search(query,num,embedded_pics):\n",
    "    \"\"\"\n",
    "    Takes in the caption input by the user, the number of relevant images wanted, and the resnet of embedded pictures.\n",
    "    Parameters:\n",
    "        query: A string that describes an image wanted by the user.\n",
    "        num: The number of images to return.\n",
    "        embedded_pics: an (N,50) numpy array of embedded images\n",
    "    Returns:\n",
    "        answer: a num-length list of indices which point to the IDs of the relevant images\n",
    "    \"\"\"\n",
    "    # initializes and populates a (50,) array with the glove*idf embedding\n",
    "    embedding = np.zeros((50,))\n",
    "    for i, word in enumerate(query):\n",
    "        if word in glove:\n",
    "            embedding += glove[word] * idfs[word]\n",
    "    \n",
    "    # creates a list of ids and associated descriptor arrays\n",
    "    ids = list(embedded_pics.keys())\n",
    "    descriptors = list(embedded_pics.values())\n",
    "    \n",
    "    # creates a list of similarities between each descriptor and the caption\n",
    "    similarities = []\n",
    "    for descriptor in descriptors:\n",
    "        similarities.append(cos_sim(embedding,descriptor))\n",
    "      \n",
    "    # sort them by closest to furthest similarity\n",
    "    argsorted = np.argsort(similarities)[::-1]\n",
    "    answer = []\n",
    "    \n",
    "    # append the top num to a list for the search result\n",
    "    for i in range(num):\n",
    "        answer.append(ids[argsorted[i]])\n",
    "    return answer"
   ]
  },
  {
   "cell_type": "code",
   "execution_count": 188,
   "metadata": {},
   "outputs": [
    {
     "data": {
      "text/plain": [
       "[2, 27, 90]"
      ]
     },
     "execution_count": 188,
     "metadata": {},
     "output_type": "execute_result"
    }
   ],
   "source": [
    "search(\"cat with clocks in background\",3,embedded_pics)"
   ]
  },
  {
   "cell_type": "code",
   "execution_count": 190,
   "metadata": {},
   "outputs": [
    {
     "name": "stdout",
     "output_type": "stream",
     "text": [
      "Tensor(0.05655344617104204)\n",
      "Tensor(0.22491511138394701)\n",
      "Tensor(0.15189448126456181)\n"
     ]
    }
   ],
   "source": [
    "## test\n",
    "yeet = np.array([ -2.62702516e+01,   7.83645194e+01,   7.01409819e+01,   7.30507522e+01,\n",
    "   4.89276943e+01,   9.97718109e+00,   6.43624834e+01,  -8.64928782e+01,\n",
    "  -2.59153184e+01,   4.01244143e+00,   4.13068775e+00,   5.43480247e+01,\n",
    "  -5.31025636e+01,  -4.82874254e+01,  -2.35427291e+01,   1.23322529e+01,\n",
    "  -8.41125360e+00,  -7.20409141e+00,  -4.91911047e+01,  -3.19328701e+01,\n",
    "  -3.02648587e+01,  -2.92216738e+01,   9.27032907e+01,   4.36578770e+01,\n",
    "  -3.19813673e+01,  -3.07457628e+01,  -1.06634996e+01,  -2.19357010e+01,\n",
    "   4.02523310e+00,  -1.21464836e+01,   2.28417401e+02,  -9.55545753e-02,\n",
    "  -5.57300092e+00,   7.18058576e+01,   4.23390855e+01,  -8.72334466e+01,\n",
    "   7.59749427e+01,  -4.44520049e+01,   2.75605123e+01,   2.59732314e+01,\n",
    "   7.52166434e+01,   7.49476391e+00,  -2.15884429e+01,   3.78232247e+00,\n",
    "  -2.14402296e+01,   4.78565098e+01,   1.61055955e+01,  -4.75692732e+01,\n",
    "   3.16272780e+01,   1.03061316e+02])\n",
    "e = [mg.Tensor(0.07905285592042817), mg.Tensor(0.23275870356443984), mg.Tensor(0.05655344617104204), mg.Tensor(0.189332659775705), mg.Tensor(0.1326760693485924), mg.Tensor(0.08391770753574716), mg.Tensor(0.1463082602651964), mg.Tensor(0.1934256811408913), mg.Tensor(0.15774729324174175), mg.Tensor(0.16222235231144447), mg.Tensor(0.16833589095127532), mg.Tensor(0.15098058773856743), mg.Tensor(0.19540878437106818), mg.Tensor(0.22259216718400648), mg.Tensor(0.21536087163749595), mg.Tensor(0.16005421783284912), mg.Tensor(0.14385647404128551), mg.Tensor(0.14021462865641524), mg.Tensor(0.23593402112725476), mg.Tensor(0.31931883562531754), mg.Tensor(0.14911086564522627), mg.Tensor(0.01404998635363813), mg.Tensor(0.21513458346729314), mg.Tensor(0.18786066788557845), mg.Tensor(0.08151870838091498), mg.Tensor(0.17157392847332467), mg.Tensor(0.2038391768309249), mg.Tensor(0.22491511138394701), mg.Tensor(0.1716764180515284), mg.Tensor(0.2118400269905972), mg.Tensor(0.10544391304106943), mg.Tensor(0.11205105904176785), mg.Tensor(0.1337833718480331), mg.Tensor(0.1822709558583737), mg.Tensor(0.30413154372959345), mg.Tensor(0.3347900520926846), mg.Tensor(0.14943333750917018), mg.Tensor(0.24033434075749788), mg.Tensor(0.18317011338686803), mg.Tensor(0.18226560049778134), mg.Tensor(0.09388443110444497), mg.Tensor(0.35480500340000354), mg.Tensor(0.26057096931490487), mg.Tensor(0.13061351412492747), mg.Tensor(0.23773147278120746), mg.Tensor(0.2956750130106125), mg.Tensor(0.16355750159909987), mg.Tensor(0.08422819752961506), mg.Tensor(0.3396669933251098), mg.Tensor(0.2645928103519689), mg.Tensor(0.1506197470557349), mg.Tensor(0.211055384448791), mg.Tensor(0.14976017659991916), mg.Tensor(0.11269565337219783), mg.Tensor(0.2260608606029508), mg.Tensor(0.22979814486804903), mg.Tensor(0.216797407334352), mg.Tensor(0.12979647102697955), mg.Tensor(0.17665974583829253), mg.Tensor(0.13276957760263935), mg.Tensor(0.11393883329672957), mg.Tensor(0.11282812209789211), mg.Tensor(0.1451896751390597), mg.Tensor(0.20858029307687592), mg.Tensor(0.30112024249634073), mg.Tensor(0.3009826657692888), mg.Tensor(0.1578744543537038), mg.Tensor(0.008051624414354145), mg.Tensor(0.14559739955121115), mg.Tensor(0.27690945351066204), mg.Tensor(0.19687626373324796), mg.Tensor(0.13571927272658163), mg.Tensor(0.10441746843261454), mg.Tensor(0.1081020358433679), mg.Tensor(0.10483622583440373), mg.Tensor(0.24543033691722996), mg.Tensor(0.18881837588049596), mg.Tensor(0.15351931681259842), mg.Tensor(0.25811856707444963), mg.Tensor(0.10553176165798718), mg.Tensor(0.20886719571423507), mg.Tensor(0.22714456446000852), mg.Tensor(-0.0033411343026196467), mg.Tensor(0.13245446466287691), mg.Tensor(0.13470063314495995), mg.Tensor(0.23442993273304844), mg.Tensor(0.16428240318893345), mg.Tensor(0.14064258536650293), mg.Tensor(0.15442654114057222), mg.Tensor(0.18627661377171914), mg.Tensor(0.15189448126456181), mg.Tensor(0.17058186556966576), mg.Tensor(0.24279624157217747), mg.Tensor(0.18619207653740033), mg.Tensor(0.06978489649279893), mg.Tensor(0.19760554591952673), mg.Tensor(0.1788101366671405), mg.Tensor(0.11918858440544332), mg.Tensor(0.24900423135940938), mg.Tensor(0.267066028047948)]\n",
    "\n",
    "best = e[2]\n",
    "okay = e[27]\n",
    "shit = e[90]\n",
    "print(best)\n",
    "print(okay)\n",
    "print(shit)"
   ]
  },
  {
   "cell_type": "code",
   "execution_count": 182,
   "metadata": {},
   "outputs": [
    {
     "name": "stdout",
     "output_type": "stream",
     "text": [
      "[0, 1, 2, 3, 4, 5, 6, 7, 8, 9, 10, 11, 12, 13, 14, 15, 16, 17, 18, 19]\n"
     ]
    }
   ],
   "source": [
    "print(ids[:20])"
   ]
  },
  {
   "cell_type": "code",
   "execution_count": 183,
   "metadata": {},
   "outputs": [
    {
     "ename": "KeyError",
     "evalue": "56",
     "output_type": "error",
     "traceback": [
      "\u001b[1;31m---------------------------------------------------------------------------\u001b[0m",
      "\u001b[1;31mKeyError\u001b[0m                                  Traceback (most recent call last)",
      "\u001b[1;32m<ipython-input-183-4332322b061e>\u001b[0m in \u001b[0;36m<module>\u001b[1;34m()\u001b[0m\n\u001b[0;32m      1\u001b[0m \u001b[0mids\u001b[0m \u001b[1;33m=\u001b[0m \u001b[0mlist\u001b[0m\u001b[1;33m(\u001b[0m\u001b[0membedded_pics\u001b[0m\u001b[1;33m.\u001b[0m\u001b[0mkeys\u001b[0m\u001b[1;33m(\u001b[0m\u001b[1;33m)\u001b[0m\u001b[1;33m)\u001b[0m\u001b[1;33m\u001b[0m\u001b[0m\n\u001b[1;32m----> 2\u001b[1;33m \u001b[0mprint\u001b[0m\u001b[1;33m(\u001b[0m\u001b[0mimgs\u001b[0m\u001b[1;33m[\u001b[0m\u001b[1;36m56\u001b[0m\u001b[1;33m]\u001b[0m\u001b[1;33m)\u001b[0m\u001b[1;33m\u001b[0m\u001b[0m\n\u001b[0m",
      "\u001b[1;31mKeyError\u001b[0m: 56"
     ]
    }
   ],
   "source": [
    "ids = list(embedded_pics.keys())\n",
    "print(imgs[56])"
   ]
  },
  {
   "cell_type": "code",
   "execution_count": null,
   "metadata": {
    "collapsed": true
   },
   "outputs": [],
   "source": []
  }
 ],
 "metadata": {
  "kernelspec": {
   "display_name": "Python 3",
   "language": "python",
   "name": "python3"
  },
  "language_info": {
   "codemirror_mode": {
    "name": "ipython",
    "version": 3
   },
   "file_extension": ".py",
   "mimetype": "text/x-python",
   "name": "python",
   "nbconvert_exporter": "python",
   "pygments_lexer": "ipython3",
   "version": "3.6.3"
  }
 },
 "nbformat": 4,
 "nbformat_minor": 2
}
