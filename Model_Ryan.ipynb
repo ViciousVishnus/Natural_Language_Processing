{
 "cells": [
  {
   "cell_type": "code",
   "execution_count": 1,
   "metadata": {},
   "outputs": [],
   "source": [
    "##Initializing the Model and other stuff"
   ]
  },
  {
   "cell_type": "code",
   "execution_count": 23,
   "metadata": {},
   "outputs": [],
   "source": [
    "from mynn.initializers.normal import normal\n",
    "from mynn.layers.dense import dense\n",
    "from mynn.layers.dropout import dropout\n",
    "from mynn.initializers.he_uniform import he_uniform\n",
    "from mygrad.nnet.layers import max_pool\n",
    "from mynn.losses.cross_entropy import softmax_cross_entropy\n",
    "import numpy as np\n",
    "###Our model class\n",
    "class Model:\n",
    "    def __init__(self):\n",
    "        \"\"\"\n",
    "        Creates the dense layers\n",
    "        \"\"\"\n",
    "        ##Creates a new dense thing and has the weights become the picture_dense layer\n",
    "        picture_dense=dense(512, 50, weight_initializer= normal, bias=False)\n",
    "        weights=np.load(\"picture_dense.npy\")\n",
    "        picture_dense.weight.data=weights\n",
    "    def __call__(self, features):\n",
    "        \"\"\"\n",
    "        Neural Network that uses the dense layer to matrix multiply to pic_fifty\n",
    "        Parameters: \n",
    "            features: (1, 512) array of resnet features\n",
    "        Returns:\n",
    "            pic_fifty: (1, 50) array from the dense layers with the weights\n",
    "        \"\"\"\n",
    "        pic_fifty=self.picture_dense(features)\n",
    "        return pic_fifty\n",
    "    @property\n",
    "    def parameters(self):\n",
    "        params = []\n",
    "        for layer in (self.picture_dense):\n",
    "            params += list(layer.parameters)\n",
    "        return params"
   ]
  },
  {
   "cell_type": "code",
   "execution_count": 20,
   "metadata": {},
   "outputs": [],
   "source": [
    "###Creation of new weights\n",
    "############################## NEVER RUN THIS CELL UNLESS NEEDED TO ###############################################\n",
    "\"\"\"picture_dense=dense(512, 50, weight_initializer= normal, bias=False)\n",
    "np.save(\"picture_dense\", picture_dense.weight.data)\"\"\""
   ]
  },
  {
   "cell_type": "code",
   "execution_count": 21,
   "metadata": {},
   "outputs": [
    {
     "data": {
      "text/plain": [
       "array([[-0.53626406,  0.89424597, -0.17736704, ..., -0.46077711,\n",
       "        -0.09787143, -0.95820368],\n",
       "       [-0.53706214,  1.20882926, -0.88919581, ..., -1.60949758,\n",
       "         0.50721983, -0.62776047],\n",
       "       [-0.26157925, -0.66369706, -0.84295184, ..., -0.68770276,\n",
       "        -0.2318636 , -0.41356948],\n",
       "       ...,\n",
       "       [ 0.67538311, -1.21632207, -0.87071184, ...,  1.49729883,\n",
       "        -1.44789425, -1.57272786],\n",
       "       [ 0.23762041, -1.28226762,  0.54613252, ...,  0.19940211,\n",
       "        -1.0166962 , -0.64109754],\n",
       "       [ 1.23269426,  1.59678297, -0.16865665, ..., -0.187763  ,\n",
       "         0.60907382, -1.15379352]])"
      ]
     },
     "execution_count": 21,
     "metadata": {},
     "output_type": "execute_result"
    }
   ],
   "source": [
    "np.load(\"picture_dense.npy\")"
   ]
  },
  {
   "cell_type": "code",
   "execution_count": 16,
   "metadata": {},
   "outputs": [],
   "source": [
    "layer = dense(3, 4)"
   ]
  },
  {
   "cell_type": "code",
   "execution_count": 17,
   "metadata": {},
   "outputs": [],
   "source": [
    "layer.weight.data = np.array(0)"
   ]
  },
  {
   "cell_type": "code",
   "execution_count": 18,
   "metadata": {},
   "outputs": [
    {
     "data": {
      "text/plain": [
       "Tensor(0)"
      ]
     },
     "execution_count": 18,
     "metadata": {},
     "output_type": "execute_result"
    }
   ],
   "source": [
    "layer.weight"
   ]
  },
  {
   "cell_type": "code",
   "execution_count": 13,
   "metadata": {
    "scrolled": true
   },
   "outputs": [
    {
     "data": {
      "text/plain": [
       "array([[0., 0., 0., 0.]])"
      ]
     },
     "execution_count": 13,
     "metadata": {},
     "output_type": "execute_result"
    }
   ],
   "source": [
    "layer.bias.data"
   ]
  },
  {
   "cell_type": "code",
   "execution_count": null,
   "metadata": {},
   "outputs": [],
   "source": []
  }
 ],
 "metadata": {
  "kernelspec": {
   "display_name": "Python 3",
   "language": "python",
   "name": "python3"
  },
  "language_info": {
   "codemirror_mode": {
    "name": "ipython",
    "version": 3
   },
   "file_extension": ".py",
   "mimetype": "text/x-python",
   "name": "python",
   "nbconvert_exporter": "python",
   "pygments_lexer": "ipython3",
   "version": "3.6.5"
  }
 },
 "nbformat": 4,
 "nbformat_minor": 2
}
